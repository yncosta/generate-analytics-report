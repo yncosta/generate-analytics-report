{
  "nbformat": 4,
  "nbformat_minor": 0,
  "metadata": {
    "colab": {
      "name": "amazon-scraper.ipynb",
      "provenance": []
    },
    "kernelspec": {
      "name": "python3",
      "display_name": "Python 3"
    },
    "language_info": {
      "name": "python"
    }
  },
  "cells": [
    {
      "cell_type": "markdown",
      "metadata": {
        "id": "X1BH_X8g49NF"
      },
      "source": [
        "# Web Scraping Amazon.com\n",
        "\n",
        "Used *BeautifulSoup* and *Selenium* to build an algorithm that scrapes Amazon.com and returns the **description**, **price**, **rating**, **review count** and **url** of products, based on a given search term.\n",
        "\n",
        "---"
      ]
    },
    {
      "cell_type": "markdown",
      "metadata": {
        "id": "qDlu2JV4odbN"
      },
      "source": [
        "# Import libraries"
      ]
    },
    {
      "cell_type": "code",
      "metadata": {
        "colab": {
          "base_uri": "https://localhost:8080/"
        },
        "id": "mwZzGrUz6OFF",
        "outputId": "307dc87a-e976-4186-89e7-be33d3a42f48"
      },
      "source": [
        "#@title\n",
        "# install packages\n",
        "!pip install selenium\n",
        "!apt-get update # to update ubuntu to correctly run apt install\n",
        "!apt install chromium-chromedriver\n",
        "!cp /usr/lib/chromium-browser/chromedriver /usr/bin"
      ],
      "execution_count": 1,
      "outputs": [
        {
          "output_type": "stream",
          "text": [
            "Requirement already satisfied: selenium in /usr/local/lib/python3.7/dist-packages (3.141.0)\n",
            "Requirement already satisfied: urllib3 in /usr/local/lib/python3.7/dist-packages (from selenium) (1.24.3)\n",
            "Get:1 http://security.ubuntu.com/ubuntu bionic-security InRelease [88.7 kB]\n",
            "Ign:2 https://developer.download.nvidia.com/compute/cuda/repos/ubuntu1804/x86_64  InRelease\n",
            "Ign:3 https://developer.download.nvidia.com/compute/machine-learning/repos/ubuntu1804/x86_64  InRelease\n",
            "Hit:4 http://archive.ubuntu.com/ubuntu bionic InRelease\n",
            "Hit:5 http://ppa.launchpad.net/c2d4u.team/c2d4u4.0+/ubuntu bionic InRelease\n",
            "Hit:6 https://developer.download.nvidia.com/compute/cuda/repos/ubuntu1804/x86_64  Release\n",
            "Hit:7 https://cloud.r-project.org/bin/linux/ubuntu bionic-cran40/ InRelease\n",
            "Hit:8 https://developer.download.nvidia.com/compute/machine-learning/repos/ubuntu1804/x86_64  Release\n",
            "Get:9 http://archive.ubuntu.com/ubuntu bionic-updates InRelease [88.7 kB]\n",
            "Hit:10 http://ppa.launchpad.net/cran/libgit2/ubuntu bionic InRelease\n",
            "Hit:11 http://ppa.launchpad.net/deadsnakes/ppa/ubuntu bionic InRelease\n",
            "Get:12 http://archive.ubuntu.com/ubuntu bionic-backports InRelease [74.6 kB]\n",
            "Hit:13 http://ppa.launchpad.net/graphics-drivers/ppa/ubuntu bionic InRelease\n",
            "Fetched 252 kB in 2s (101 kB/s)\n",
            "Reading package lists... Done\n",
            "Reading package lists... Done\n",
            "Building dependency tree       \n",
            "Reading state information... Done\n",
            "chromium-chromedriver is already the newest version (91.0.4472.101-0ubuntu0.18.04.1).\n",
            "The following package was automatically installed and is no longer required:\n",
            "  libnvidia-common-460\n",
            "Use 'apt autoremove' to remove it.\n",
            "0 upgraded, 0 newly installed, 0 to remove and 50 not upgraded.\n",
            "cp: '/usr/lib/chromium-browser/chromedriver' and '/usr/bin/chromedriver' are the same file\n"
          ],
          "name": "stdout"
        }
      ]
    },
    {
      "cell_type": "code",
      "metadata": {
        "collapsed": true,
        "id": "CRfdH8lHkO2Q"
      },
      "source": [
        "import csv\n",
        "from bs4 import BeautifulSoup\n",
        "\n",
        "import sys\n",
        "sys.path.insert(0,'/usr/lib/chromium-browser/chromedriver')\n",
        "from selenium import webdriver"
      ],
      "execution_count": 2,
      "outputs": []
    },
    {
      "cell_type": "markdown",
      "metadata": {
        "id": "X26aGx7Eo1aC"
      },
      "source": [
        "# Start the WebDriver"
      ]
    },
    {
      "cell_type": "code",
      "metadata": {
        "id": "tvhFpIhknceA"
      },
      "source": [
        "chrome_options = webdriver.ChromeOptions()\n",
        "chrome_options.add_argument('--headless')\n",
        "chrome_options.add_argument('--no-sandbox')\n",
        "chrome_options.add_argument('--disable-dev-shm-usage')\n",
        "wd = webdriver.Chrome('chromedriver', options=chrome_options)\n",
        "url = 'https://www.amazon.com'\n",
        "wd.get(url)"
      ],
      "execution_count": 3,
      "outputs": []
    },
    {
      "cell_type": "markdown",
      "metadata": {
        "id": "xCGorkpOp7zO"
      },
      "source": [
        "# Create a function to get the page's URL"
      ]
    },
    {
      "cell_type": "code",
      "metadata": {
        "colab": {
          "base_uri": "https://localhost:8080/"
        },
        "id": "99buMXAWpS1r",
        "outputId": "3781cacc-5147-4feb-b5e2-943ad094df38"
      },
      "source": [
        "def get_url(search_term):\n",
        "  '''Generate a url from search term'''\n",
        "  template = 'https://www.amazon.com/s?k={}&ref=nb_sb_noss_1'\n",
        "  search_term = search_term.replace(' ', '+')\n",
        "  return template.format(search_term)\n",
        "\n",
        "url = get_url('ultrawide monitor')\n",
        "wd.get(url)\n",
        "print(url)"
      ],
      "execution_count": 4,
      "outputs": [
        {
          "output_type": "stream",
          "text": [
            "https://www.amazon.com/s?k=ultrawide+monitor&ref=nb_sb_noss_1\n"
          ],
          "name": "stdout"
        }
      ]
    },
    {
      "cell_type": "markdown",
      "metadata": {
        "id": "fDShc7barRVj"
      },
      "source": [
        "# Extract the Collection and Prototype the Record"
      ]
    },
    {
      "cell_type": "code",
      "metadata": {
        "id": "7I_N4dnkq2UH"
      },
      "source": [
        "soup = BeautifulSoup(wd.page_source, 'html.parser')\n",
        "results = soup.find_all('div', {'data-component-type': 's-search-result'})\n",
        "\n",
        "# inspecting the results page to come up with the following:\n",
        "item = results[0]\n",
        "atag = item.h2.a\n",
        "description = atag.text.strip()\n",
        "url = 'https://amazon.com' + atag.get('href')\n",
        "price_parent = item.find('span', 'a-price')\n",
        "price = price_parent.find('span', 'a-offscreen').text\n",
        "rating = item.i.text\n",
        "review_count = item.find('span', 'a-size-base').text"
      ],
      "execution_count": 5,
      "outputs": []
    },
    {
      "cell_type": "markdown",
      "metadata": {
        "id": "MBPFiC5Mwm8J"
      },
      "source": [
        "# Generalize the Pattern"
      ]
    },
    {
      "cell_type": "code",
      "metadata": {
        "id": "MjlXAFDRur8_"
      },
      "source": [
        "def extract_record(item):\n",
        "  '''Extract and return data from a single record'''\n",
        "\n",
        "  # description and url\n",
        "  atag = item.h2.a\n",
        "  description = atag.text.strip()\n",
        "  url = 'https://amazon.com' + atag.get('href')\n",
        "  \n",
        "  try: \n",
        "    # price\n",
        "    price_parent = item.find('span', 'a-price')\n",
        "    price = price_parent.find('span', 'a-offscreen').text\n",
        "  except AttributeError:\n",
        "    return \n",
        "\n",
        "  try:   \n",
        "    # rank and rating\n",
        "    rating = item.i.text\n",
        "    review_count = item.find('span', 'a-size-base').text\n",
        "  except AttributeError:\n",
        "    rating = ''\n",
        "    review_count = ''\n",
        "\n",
        "  result = (description, price, rating, review_count, url)\n",
        "\n",
        "  return result"
      ],
      "execution_count": 6,
      "outputs": []
    },
    {
      "cell_type": "code",
      "metadata": {
        "colab": {
          "base_uri": "https://localhost:8080/"
        },
        "id": "yRHrrir8xJhq",
        "outputId": "e4926496-1cc1-48fe-e2f2-c3c38455d7df"
      },
      "source": [
        "records = []\n",
        "results = soup.find_all('div', {'data-component-type': 's-search-result'})\n",
        "\n",
        "for item in results:\n",
        "  record = extract_record(item)\n",
        "  if record:\n",
        "    records.append(record)\n",
        "\n",
        "records[0]"
      ],
      "execution_count": 7,
      "outputs": [
        {
          "output_type": "execute_result",
          "data": {
            "text/plain": [
              "('SAMSUNG 34-Inch SJ55W Ultrawide Gaming Monitor (LS34J550WQNXZA) – 75Hz Refresh, WQHD Computer Monitor, 3440 x 1440p Resolution, 4ms Response, FreeSync, Split Screen, HDMI, Black',\n",
              " '$369.89',\n",
              " '4.5 out of 5 stars',\n",
              " '877',\n",
              " 'https://amazon.com/Samsung-S34J55W-34-Inch-Ultrawide-LS34J550WQNXZA/dp/B07FBS36W2/ref=sr_1_1?dchild=1&keywords=ultrawide+monitor&qid=1629302066&sr=8-1')"
            ]
          },
          "metadata": {
            "tags": []
          },
          "execution_count": 7
        }
      ]
    },
    {
      "cell_type": "code",
      "metadata": {
        "colab": {
          "base_uri": "https://localhost:8080/"
        },
        "id": "gr-uJLF30Bup",
        "outputId": "4c078d4f-ac90-4fdb-ae38-a5cd6d66a569"
      },
      "source": [
        "# testing for the prices:\n",
        "for row in records:\n",
        "  print(row[1])"
      ],
      "execution_count": 8,
      "outputs": [
        {
          "output_type": "stream",
          "text": [
            "$369.89\n",
            "$296.99\n",
            "$848.99\n",
            "$414.75\n",
            "$385.49\n",
            "$279.00\n",
            "$699.99\n",
            "$496.99\n",
            "$399.99\n",
            "$281.60\n",
            "$299.99\n",
            "$1,000.84\n",
            "$1,099.99\n",
            "$504.56\n",
            "$1,496.99\n",
            "$419.99\n"
          ],
          "name": "stdout"
        }
      ]
    },
    {
      "cell_type": "markdown",
      "metadata": {
        "id": "v9pyDmEN0IC9"
      },
      "source": [
        "# Getting the next page"
      ]
    },
    {
      "cell_type": "code",
      "metadata": {
        "id": "E0hjAtfHzrb_"
      },
      "source": [
        "def get_url(search_term):\n",
        "  '''Generate a url from search term'''\n",
        "  template = 'https://www.amazon.com/s?k={}&ref=nb_sb_noss_1'\n",
        "  search_term = search_term.replace(' ', '+')\n",
        "\n",
        "  # add term query to url\n",
        "  url = template.format(search_term)\n",
        "\n",
        "  # add page query placeholder\n",
        "  url += '&page{}'\n",
        "\n",
        "  return url "
      ],
      "execution_count": 9,
      "outputs": []
    },
    {
      "cell_type": "markdown",
      "metadata": {
        "id": "H8xeyEDe00GF"
      },
      "source": [
        "# Putting it all together"
      ]
    },
    {
      "cell_type": "code",
      "metadata": {
        "id": "CTeJxtFV0xK_"
      },
      "source": [
        "def get_url(search_term):\n",
        "  '''Generate a url from search term'''\n",
        "  template = 'https://www.amazon.com/s?k={}&ref=nb_sb_noss_1'\n",
        "  search_term = search_term.replace(' ', '+')\n",
        "\n",
        "  # add term query to url\n",
        "  url = template.format(search_term)\n",
        "\n",
        "  # add page query placeholder\n",
        "  url += '&page={}'\n",
        "\n",
        "  return url\n",
        "\n",
        "def extract_record(item):\n",
        "  '''Extract and return data from a single record'''\n",
        "\n",
        "  # description and url\n",
        "  atag = item.h2.a\n",
        "  description = atag.text.strip()\n",
        "  url = 'https://amazon.com' + atag.get('href')\n",
        "  \n",
        "  try: \n",
        "    # price\n",
        "    price_parent = item.find('span', 'a-price')\n",
        "    price = price_parent.find('span', 'a-offscreen').text\n",
        "  except AttributeError:\n",
        "    return \n",
        "\n",
        "  try:   \n",
        "    # rank and rating\n",
        "    rating = item.i.text\n",
        "    review_count = item.find('span', 'a-size-base').text\n",
        "  except AttributeError:\n",
        "    rating = ''\n",
        "    review_count = ''\n",
        "\n",
        "  result = (description, price, rating, review_count, url)\n",
        "\n",
        "  return result\n",
        "\n",
        "def main(search_term):\n",
        "  '''Run main program routine'''\n",
        "  # start up the webdriver\n",
        "  chrome_options = webdriver.ChromeOptions()\n",
        "  chrome_options.add_argument('--headless')\n",
        "  chrome_options.add_argument('--no-sandbox')\n",
        "  chrome_options.add_argument('--disable-dev-shm-usage')\n",
        "  wd = webdriver.Chrome('chromedriver', options=chrome_options)\n",
        "\n",
        "  records = []\n",
        "  url = get_url(search_term)\n",
        "\n",
        "  for page in range(1, 21):\n",
        "    wd.get(url.format(page))\n",
        "    soup = BeautifulSoup(wd.page_source, 'html.parser')\n",
        "    results = soup.find_all('div', {'data-component-type': 's-search-result'})\n",
        "\n",
        "    for item in results:\n",
        "      record = extract_record(item)\n",
        "      if record:\n",
        "        records.append(record)\n",
        "    \n",
        "  wd.close()\n",
        "\n",
        "  # save data to csv file\n",
        "  with open('results.csv', 'w', newline='', encoding='utf-8') as f:\n",
        "    writer = csv.writer(f, delimiter=' ')\n",
        "    writer.writerow(['Description', 'Price', 'Rating', 'ReviewCount', 'Url'])\n",
        "    writer.writerows(records)"
      ],
      "execution_count": 10,
      "outputs": []
    },
    {
      "cell_type": "markdown",
      "metadata": {
        "id": "K_3WDWoJ7t-C"
      },
      "source": [
        "# Executing and Checking the Results"
      ]
    },
    {
      "cell_type": "code",
      "metadata": {
        "id": "SKLK9iYP2vwo"
      },
      "source": [
        "main('ultrawide monitor')"
      ],
      "execution_count": 11,
      "outputs": []
    },
    {
      "cell_type": "code",
      "metadata": {
        "colab": {
          "base_uri": "https://localhost:8080/",
          "height": 204
        },
        "id": "bDBuoTOg21ND",
        "outputId": "f56022e6-f1ab-4773-90f1-4371dd7693b6"
      },
      "source": [
        "import pandas as pd\n",
        "results = pd.read_csv('/content/results.csv', delimiter=' ')\n",
        "results.head()"
      ],
      "execution_count": 13,
      "outputs": [
        {
          "output_type": "execute_result",
          "data": {
            "text/html": [
              "<div>\n",
              "<style scoped>\n",
              "    .dataframe tbody tr th:only-of-type {\n",
              "        vertical-align: middle;\n",
              "    }\n",
              "\n",
              "    .dataframe tbody tr th {\n",
              "        vertical-align: top;\n",
              "    }\n",
              "\n",
              "    .dataframe thead th {\n",
              "        text-align: right;\n",
              "    }\n",
              "</style>\n",
              "<table border=\"1\" class=\"dataframe\">\n",
              "  <thead>\n",
              "    <tr style=\"text-align: right;\">\n",
              "      <th></th>\n",
              "      <th>Description</th>\n",
              "      <th>Price</th>\n",
              "      <th>Rating</th>\n",
              "      <th>ReviewCount</th>\n",
              "      <th>Url</th>\n",
              "    </tr>\n",
              "  </thead>\n",
              "  <tbody>\n",
              "    <tr>\n",
              "      <th>0</th>\n",
              "      <td>SAMSUNG 34-Inch SJ55W Ultrawide Gaming Monitor...</td>\n",
              "      <td>$369.89</td>\n",
              "      <td>4.5 out of 5 stars</td>\n",
              "      <td>877</td>\n",
              "      <td>https://amazon.com/Samsung-S34J55W-34-Inch-Ult...</td>\n",
              "    </tr>\n",
              "    <tr>\n",
              "      <th>1</th>\n",
              "      <td>LG 34WP65G-B 34-Inch 21:9 UltraWide Full HD (2...</td>\n",
              "      <td>$296.99</td>\n",
              "      <td>4.6 out of 5 stars</td>\n",
              "      <td>1,375</td>\n",
              "      <td>https://amazon.com/LG-34WP65G-B-34-Inch-Displa...</td>\n",
              "    </tr>\n",
              "    <tr>\n",
              "      <th>2</th>\n",
              "      <td>LG 34WN80C-B 34 inch 21:9 Curved UltraWide WQH...</td>\n",
              "      <td>$848.99</td>\n",
              "      <td>4.6 out of 5 stars</td>\n",
              "      <td>2,639</td>\n",
              "      <td>https://amazon.com/LG-34WN80C-B-inch-Connectiv...</td>\n",
              "    </tr>\n",
              "    <tr>\n",
              "      <th>3</th>\n",
              "      <td>AOC CU34G2X 34\" Curved Frameless Immersive Gam...</td>\n",
              "      <td>$414.75</td>\n",
              "      <td>4.7 out of 5 stars</td>\n",
              "      <td>10,906</td>\n",
              "      <td>https://amazon.com/AOC-CU34G2X-Frameless-Immer...</td>\n",
              "    </tr>\n",
              "    <tr>\n",
              "      <th>4</th>\n",
              "      <td>LG 34WN650-W 34-Inch 21:9 UltraWide Full HD (2...</td>\n",
              "      <td>$385.49</td>\n",
              "      <td>4.7 out of 5 stars</td>\n",
              "      <td>433</td>\n",
              "      <td>https://amazon.com/LG-34WN650-W-34-Inch-UltraW...</td>\n",
              "    </tr>\n",
              "  </tbody>\n",
              "</table>\n",
              "</div>"
            ],
            "text/plain": [
              "                                         Description  ...                                                Url\n",
              "0  SAMSUNG 34-Inch SJ55W Ultrawide Gaming Monitor...  ...  https://amazon.com/Samsung-S34J55W-34-Inch-Ult...\n",
              "1  LG 34WP65G-B 34-Inch 21:9 UltraWide Full HD (2...  ...  https://amazon.com/LG-34WP65G-B-34-Inch-Displa...\n",
              "2  LG 34WN80C-B 34 inch 21:9 Curved UltraWide WQH...  ...  https://amazon.com/LG-34WN80C-B-inch-Connectiv...\n",
              "3  AOC CU34G2X 34\" Curved Frameless Immersive Gam...  ...  https://amazon.com/AOC-CU34G2X-Frameless-Immer...\n",
              "4  LG 34WN650-W 34-Inch 21:9 UltraWide Full HD (2...  ...  https://amazon.com/LG-34WN650-W-34-Inch-UltraW...\n",
              "\n",
              "[5 rows x 5 columns]"
            ]
          },
          "metadata": {
            "tags": []
          },
          "execution_count": 13
        }
      ]
    },
    {
      "cell_type": "code",
      "metadata": {
        "colab": {
          "base_uri": "https://localhost:8080/",
          "height": 278
        },
        "id": "GohTa-Z_8OBb",
        "outputId": "cd56b688-9570-4909-d1a6-6dcc417e60a8"
      },
      "source": [
        "ax = pd.to_numeric(results.Price.str.split('$', expand=True)[1].head()).plot(kind='bar');\n",
        "ax.set_xlabel('');\n",
        "ax.set_title('Price of the first 5 products');"
      ],
      "execution_count": 14,
      "outputs": [
        {
          "output_type": "display_data",
          "data": {
            "image/png": "[encoded data removed]",
            "text/plain": [
              "<Figure size 432x288 with 1 Axes>"
            ]
          },
          "metadata": {
            "tags": [],
            "needs_background": "light"
          }
        }
      ]
    },
    {
      "cell_type": "markdown",
      "metadata": {
        "id": "kr5NSnon75XM"
      },
      "source": [
        "### Thank you!\n",
        "If you have any suggestions and/or ideas for improvement, please, do not hesitate to leave a comment! :)"
      ]
    }
  ]
}